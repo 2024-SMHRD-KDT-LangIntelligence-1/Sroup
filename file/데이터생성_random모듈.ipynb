{
 "cells": [
  {
   "cell_type": "markdown",
   "id": "a8b2a773-eebe-481a-972c-3e439456c022",
   "metadata": {},
   "source": [
    "# 가상 사용자 데이터 생성 방법"
   ]
  },
  {
   "cell_type": "markdown",
   "id": "41678af1-179f-4b79-b679-be6ed1178100",
   "metadata": {},
   "source": [
    "## 1. 데이터 구조 정의\n",
    "어떤 데이터를 생성할지 미리 설계하세요. 스터디 그룹 추천 시스템의 경우 아래 항목들을 포함할 수 있습니다:\n",
    "\n",
    "사용자 ID: 각 사용자를 구별하는 고유 번호. <br>\n",
    "관심사: 키워드 또는 카테고리 (예: \"수학\", \"과학\"). <br>\n",
    "가입한 그룹: 사용자가 가입한 그룹 ID 목록. <br>\n",
    "활동 수준: 사용자의 참여도를 나타내는 숫자 (예: 0~100 점수). <br>"
   ]
  },
  {
   "cell_type": "code",
   "execution_count": 1,
   "id": "4f2c23fb-d131-48b8-b4dd-056e06ffc873",
   "metadata": {},
   "outputs": [
    {
     "name": "stdout",
     "output_type": "stream",
     "text": [
      "가상 사용자 데이터가 생성되고 저장되었습니다!\n"
     ]
    }
   ],
   "source": [
    "import random\n",
    "import pandas as pd\n",
    "\n",
    "# 관심사와 그룹 ID 정의\n",
    "interests = [\"Math\", \"Science\", \"History\", \"Art\", \"Programming\", \"Languages\"]\n",
    "group_ids = list(range(1, 21))  # 20개의 그룹이 있다고 가정\n",
    "\n",
    "# 사용자 데이터 생성 함수\n",
    "def generate_user_data(num_users=100):\n",
    "    data = []\n",
    "    for user_id in range(1, num_users + 1):\n",
    "        user_interests = random.sample(interests, k=random.randint(1, 3))  # 1~3개의 랜덤 관심사\n",
    "        joined_groups = random.sample(group_ids, k=random.randint(1, 5))  # 1~5개의 랜덤 그룹\n",
    "        activity_level = random.randint(0, 100)  # 참여 점수\n",
    "        data.append({\n",
    "            \"User ID\": user_id,\n",
    "            \"Interests\": \", \".join(user_interests),\n",
    "            \"Groups Joined\": \", \".join(map(str, joined_groups)),\n",
    "            \"Activity Level\": activity_level\n",
    "        })\n",
    "    return pd.DataFrame(data)\n",
    "\n",
    "# 데이터 생성 및 CSV 저장\n",
    "user_data = generate_user_data(100)\n",
    "user_data.to_csv(\"synthetic_user_data.csv\", index=False)\n",
    "print(\"가상 사용자 데이터가 생성되고 저장되었습니다!\")"
   ]
  },
  {
   "cell_type": "code",
   "execution_count": 3,
   "id": "668be870-29fb-4fcd-903c-814e16309312",
   "metadata": {
    "scrolled": true
   },
   "outputs": [
    {
     "data": {
      "text/html": [
       "<div>\n",
       "<style scoped>\n",
       "    .dataframe tbody tr th:only-of-type {\n",
       "        vertical-align: middle;\n",
       "    }\n",
       "\n",
       "    .dataframe tbody tr th {\n",
       "        vertical-align: top;\n",
       "    }\n",
       "\n",
       "    .dataframe thead th {\n",
       "        text-align: right;\n",
       "    }\n",
       "</style>\n",
       "<table border=\"1\" class=\"dataframe\">\n",
       "  <thead>\n",
       "    <tr style=\"text-align: right;\">\n",
       "      <th></th>\n",
       "      <th>User ID</th>\n",
       "      <th>Interests</th>\n",
       "      <th>Groups Joined</th>\n",
       "      <th>Activity Level</th>\n",
       "    </tr>\n",
       "  </thead>\n",
       "  <tbody>\n",
       "    <tr>\n",
       "      <th>0</th>\n",
       "      <td>1</td>\n",
       "      <td>Math</td>\n",
       "      <td>4, 14, 7, 3, 10</td>\n",
       "      <td>98</td>\n",
       "    </tr>\n",
       "    <tr>\n",
       "      <th>1</th>\n",
       "      <td>2</td>\n",
       "      <td>Math</td>\n",
       "      <td>16, 7</td>\n",
       "      <td>85</td>\n",
       "    </tr>\n",
       "    <tr>\n",
       "      <th>2</th>\n",
       "      <td>3</td>\n",
       "      <td>History, Art</td>\n",
       "      <td>15, 18, 6, 19, 17</td>\n",
       "      <td>26</td>\n",
       "    </tr>\n",
       "    <tr>\n",
       "      <th>3</th>\n",
       "      <td>4</td>\n",
       "      <td>Art</td>\n",
       "      <td>7, 11, 6</td>\n",
       "      <td>36</td>\n",
       "    </tr>\n",
       "    <tr>\n",
       "      <th>4</th>\n",
       "      <td>5</td>\n",
       "      <td>Science, Art, Programming</td>\n",
       "      <td>5, 16, 10, 1, 13</td>\n",
       "      <td>18</td>\n",
       "    </tr>\n",
       "  </tbody>\n",
       "</table>\n",
       "</div>"
      ],
      "text/plain": [
       "   User ID                  Interests      Groups Joined  Activity Level\n",
       "0        1                       Math    4, 14, 7, 3, 10              98\n",
       "1        2                       Math              16, 7              85\n",
       "2        3               History, Art  15, 18, 6, 19, 17              26\n",
       "3        4                        Art           7, 11, 6              36\n",
       "4        5  Science, Art, Programming   5, 16, 10, 1, 13              18"
      ]
     },
     "execution_count": 3,
     "metadata": {},
     "output_type": "execute_result"
    }
   ],
   "source": [
    "user_data.head()"
   ]
  },
  {
   "cell_type": "markdown",
   "id": "67becfe8-4e9a-4c21-b1d9-4d32a46ce797",
   "metadata": {},
   "source": [
    "#### 위의 랜덤 데이터에 현실적인 패턴 추가 (선택 사항)\n",
    "- **확률 기반 생성**: 관심사나 그룹 ID의 선택 확률을 가중치로 설정\n",
    "- **활동 수준과 그룹 수 상관관계**: 그룹에 많이 참여한 사용자가 더 높은 활동 점수를 가지도록 설정."
   ]
  },
  {
   "cell_type": "code",
   "execution_count": null,
   "id": "4db70bff-6120-44e8-af99-7b2db31b0e0a",
   "metadata": {},
   "outputs": [],
   "source": [
    "# user_interests = random.choices(interests, weights=[5, 5, 3, 2, 4, 1], k=random.randint(1, 3))"
   ]
  },
  {
   "cell_type": "markdown",
   "id": "8db5bae3-218f-4fd6-b358-08dccb50f219",
   "metadata": {},
   "source": [
    "# 스터디 모집 게시글 내용 랜덤 생성"
   ]
  },
  {
   "cell_type": "markdown",
   "id": "8a8bece0-28a6-46ff-b499-e222c35a1b95",
   "metadata": {},
   "source": [
    "## 1. 랜덤 문장을 생성(특정 키워드, 일반 문장 패턴 조합)\n",
    "- 사용 예시: 스터디 그룹 공지나 간단한 소개글."
   ]
  },
  {
   "cell_type": "code",
   "execution_count": 5,
   "id": "7cb19561-676d-4652-907d-91803fbb5508",
   "metadata": {},
   "outputs": [
    {
     "name": "stdout",
     "output_type": "stream",
     "text": [
      "금요일에 과학를 연습합니다.\n",
      "주말에 예술를 연습합니다.\n",
      "다음 주에 수학를 연습합니다.\n",
      "금요일에 수학를 연습합니다.\n",
      "이번 주에 프로그래밍를 공부합니다.\n"
     ]
    }
   ],
   "source": [
    "import random\n",
    "\n",
    "# 키워드 리스트\n",
    "subjects = [\"수학\", \"과학\", \"역사\", \"프로그래밍\", \"언어학\", \"예술\"]\n",
    "actions = [\"공부합니다\", \"토론합니다\", \"발표합니다\", \"복습합니다\", \"연습합니다\"]\n",
    "time_phrases = [\"이번 주\", \"다음 주\", \"금요일\", \"월말\", \"주말\"]\n",
    "\n",
    "# 랜덤 게시글 생성\n",
    "def generate_post_content(num_posts=10):\n",
    "    posts = []\n",
    "    for _ in range(num_posts):\n",
    "        subject = random.choice(subjects)\n",
    "        action = random.choice(actions)\n",
    "        time = random.choice(time_phrases)\n",
    "        post = f\"{time}에 {subject}를 {action}.\"\n",
    "        posts.append(post)\n",
    "    return posts\n",
    "\n",
    "# 게시글 출력\n",
    "for post in generate_post_content(5):\n",
    "    print(post)"
   ]
  },
  {
   "cell_type": "markdown",
   "id": "ab0b7fde-f2e6-4a22-ac46-84c4f77c80c3",
   "metadata": {},
   "source": [
    "## 2. 사전 정의된 문장 템플릿 사용\n",
    "- 미리 작성한 문장 템플릿을 랜덤하게 조합해 자연스러운 게시글 생성."
   ]
  },
  {
   "cell_type": "code",
   "execution_count": 7,
   "id": "d0a235c0-6750-4042-ab61-154c44b916ad",
   "metadata": {},
   "outputs": [
    {
     "name": "stdout",
     "output_type": "stream",
     "text": [
      "우리 그룹은 이번 주말에 문학를 발표할 예정입니다.\n",
      "이번 주 스터디는 수학를 문제풀이하는 것을 목표로 합니다.\n",
      "안녕하세요, 이번 스터디에서는 프로그래밍를 중심으로 토론.\n",
      "이번 주 스터디는 영어회화를 토론하는 것을 목표로 합니다.\n",
      "우리 그룹은 금요일에 영어회화를 문제풀이할 예정입니다.\n"
     ]
    }
   ],
   "source": [
    "import random\n",
    "\n",
    "# 템플릿 정의\n",
    "templates = [\n",
    "    \"안녕하세요, 이번 스터디에서는 {subject}를 중심으로 {action}.\",\n",
    "    \"우리 그룹은 {time}에 {subject}를 {action}할 예정입니다.\",\n",
    "    \"다들 {time}에 모여서 {subject} 관련해서 {action}하면 좋을 것 같습니다.\",\n",
    "    \"이번 주 스터디는 {subject}를 {action}하는 것을 목표로 합니다.\"\n",
    "]\n",
    "\n",
    "# 키워드 리스트\n",
    "subjects = [\"수학\", \"프로그래밍\", \"영어회화\", \"문학\", \"물리학\"]\n",
    "actions = [\"토론\", \"학습\", \"복습\", \"문제풀이\", \"발표\"]\n",
    "time_phrases = [\"금요일\", \"토요일 오전\", \"다음 주 화요일\", \"이번 주말\"]\n",
    "\n",
    "# 랜덤 게시글 생성\n",
    "def generate_post_with_templates(num_posts=5):\n",
    "    posts = []\n",
    "    for _ in range(num_posts):\n",
    "        template = random.choice(templates)\n",
    "        post = template.format(\n",
    "            subject=random.choice(subjects),\n",
    "            action=random.choice(actions),\n",
    "            time=random.choice(time_phrases)\n",
    "        )\n",
    "        posts.append(post)\n",
    "    return posts\n",
    "\n",
    "# 게시글 출력\n",
    "for post in generate_post_with_templates(5):\n",
    "    print(post)\n"
   ]
  },
  {
   "cell_type": "markdown",
   "id": "142863b7-a9b1-4014-ac9b-08748987d123",
   "metadata": {},
   "source": [
    "## 3. 실제 데이터를 기반으로 랜덤화"
   ]
  },
  {
   "cell_type": "markdown",
   "id": "56df40fd-9bde-437d-80b5-a0128a2ea420",
   "metadata": {},
   "source": [
    "설명: 기존의 게시글 데이터를 가공하여 새로운 내용을 생성.\n",
    "- 한국어로 된 게시글 데이터가 있다면 문장을 분해하거나 단어를 바꿔 생성."
   ]
  },
  {
   "cell_type": "code",
   "execution_count": 29,
   "id": "512e9b64-b374-4137-9d60-325efef89563",
   "metadata": {},
   "outputs": [
    {
     "name": "stdout",
     "output_type": "stream",
     "text": [
      "다음 주 금요일에 역사 토론를 진행합니다.\n",
      "다음 주 금요일에 프로그래밍 학습를 진행합니다.\n",
      "다음 주 금요일에 미술 문제풀이를 진행합니다.\n",
      "다음 주 금요일에 미술 문제풀이를 진행합니다.\n",
      "스터디에서 영어 회화를 연습할 기회입니다.\n"
     ]
    }
   ],
   "source": [
    "import random\n",
    "\n",
    "# 기존 데이터\n",
    "existing_posts = [\n",
    "    \"다음 주 금요일에 수학 문제풀이를 진행합니다.\",\n",
    "    \"이번 주말에는 프로그래밍 발표가 있을 예정입니다.\",\n",
    "    \"스터디에서 영어 회화를 연습할 기회입니다.\"\n",
    "]\n",
    "\n",
    "# 단어 대체를 통한 게시글 변형\n",
    "subjects = [\"수학\", \"프로그래밍\", \"역사\", \"미술\"]\n",
    "actions = [\"발표\", \"토론\", \"문제풀이\", \"학습\"]\n",
    "\n",
    "def modify_posts(existing_posts, num_posts=5):\n",
    "    posts = []\n",
    "    for _ in range(num_posts):\n",
    "        base_post = random.choice(existing_posts)\n",
    "        new_subject = random.choice(subjects)\n",
    "        new_action = random.choice(actions)\n",
    "        post = base_post.replace(\"수학\", new_subject).replace(\"문제풀이\", new_action)\n",
    "        posts.append(post)\n",
    "    return posts\n",
    "\n",
    "# 변형된 게시글 출력\n",
    "for post in modify_posts(existing_posts, 5):\n",
    "    print(post)\n"
   ]
  }
 ],
 "metadata": {
  "kernelspec": {
   "display_name": "Python 3 (ipykernel)",
   "language": "python",
   "name": "python3"
  },
  "language_info": {
   "codemirror_mode": {
    "name": "ipython",
    "version": 3
   },
   "file_extension": ".py",
   "mimetype": "text/x-python",
   "name": "python",
   "nbconvert_exporter": "python",
   "pygments_lexer": "ipython3",
   "version": "3.11.9"
  }
 },
 "nbformat": 4,
 "nbformat_minor": 5
}
